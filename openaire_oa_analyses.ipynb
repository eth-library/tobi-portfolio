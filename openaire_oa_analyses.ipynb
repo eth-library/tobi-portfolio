{
 "cells": [
  {
   "cell_type": "markdown",
   "metadata": {},
   "source": [
    "# **Basic Trends in Open Access Academic Articles**\n",
    "## Exploring Publication Metrics with *OpenAIRE* \n",
    "### A step-by-step walkthrough\n",
    "\n",
    "This notebook includes the following basic analyses:\n",
    "- Proportions of articles in open access \n",
    "- Proportions of articles by open access status \n",
    "\n",
    "See other Notebooks in the repository for other analyses\n",
    "- Analogous to this notebook with OpenAlex: openalex_oa_analyses.ipynb\n",
    "- First Analyses: openalex_first_analyses.ipynb\n",
    "- with OpenAire: openaire_first_analyses.ipynb"
   ]
  },
  {
   "cell_type": "markdown",
   "metadata": {},
   "source": [
    "### Analysis 1: Assess Proportions of Open Access Articles\n",
    "> Note: If you want to perform the exact same analysis, then you only have to modify Step 7 to choose the institution you want or adjust/add other parameters."
   ]
  },
  {
   "cell_type": "markdown",
   "metadata": {},
   "source": [
    "##### Step 1.1: Imports\n",
    "To include all necessary imports for setup, you need to install the `requirements.txt` file first. Ensure you're in the right repository and then paste the following command into your terminal: `$ pip install -r requirements.txt`\n",
    "\n",
    "We need these libraries for:\n",
    "- `requests`: To make API calls\n",
    "- `pandas`: To process and manipulate data\n",
    "- `datetime`: To calculate year ranges\n",
    "- `matplotlib`: For visualizing data\n",
    "- `numpy`: To work with arrays"
   ]
  },
  {
   "cell_type": "code",
   "execution_count": 1,
   "metadata": {},
   "outputs": [],
   "source": [
    "import requests\n",
    "import pandas as pd\n",
    "from datetime import datetime\n",
    "import matplotlib.pyplot as plt\n",
    "import numpy as np\n",
    "from open_colors import colors"
   ]
  },
  {
   "cell_type": "markdown",
   "metadata": {},
   "source": [
    "##### Step 1.2: Response Validation\n",
    "This function checks the API response's status code. If it is not 200, it raises an error with details about the failure."
   ]
  },
  {
   "cell_type": "code",
   "execution_count": 2,
   "metadata": {},
   "outputs": [],
   "source": [
    "def validate_response(response):\n",
    "    if response.status_code == 200:\n",
    "        return response.json()\n",
    "    else:\n",
    "        raise Exception(f\"Failed to fetch data. Status code for {response.url}: {response.status_code}\")"
   ]
  },
  {
   "cell_type": "markdown",
   "metadata": {},
   "source": [
    "##### Step 1.3: Get OpenOrgs ID from ROR ID"
   ]
  },
  {
   "cell_type": "code",
   "execution_count": 3,
   "metadata": {},
   "outputs": [],
   "source": [
    "def get_openorgs_from_ror(ror):\n",
    "    url = f\"https://api.openaire.eu/graph/v1/organizations?pid={ror}\"\n",
    "    openorgs = set()\n",
    "    for record in requests.get(url).json().get('results', []):\n",
    "        openorgs.update([record.get('id', [])])\n",
    "    return openorgs"
   ]
  },
  {
   "cell_type": "markdown",
   "metadata": {},
   "source": [
    "##### Step 1.4: Build Parameters \n",
    "*Get all aublications within that year range*"
   ]
  },
  {
   "cell_type": "code",
   "execution_count": 4,
   "metadata": {},
   "outputs": [],
   "source": [
    "def build_url(institution_id, start_year, end_year, base_url):\n",
    "    params = {\n",
    "        \"relOrganizationId\": institution_id,\n",
    "        \"type\": \"publication\",\n",
    "        \"instanceType\": \"Article\",\n",
    "        \"fromPublicationDate\": start_year,\n",
    "        \"toPublicationDate\": end_year,\n",
    "        \"page\": 1,\n",
    "        \"pageSize\": 100\n",
    "    }\n",
    "    url = f\"{base_url}?{requests.compat.urlencode(params)}\"\n",
    "    return url"
   ]
  },
  {
   "cell_type": "markdown",
   "metadata": {},
   "source": [
    "*Get closed access articles*"
   ]
  },
  {
   "cell_type": "code",
   "execution_count": 5,
   "metadata": {},
   "outputs": [],
   "source": [
    "def build_non_oa_url(institution_id, start_year, end_year, base_url):\n",
    "    params = {\n",
    "        \"relOrganizationId\": institution_id,\n",
    "        \"type\": \"publication\",\n",
    "        \"instanceType\": \"Article\",\n",
    "        \"bestOpenAccessRightLabel\": \"CLOSED\",\n",
    "        \"fromPublicationDate\": start_year,\n",
    "        \"toPublicationDate\": end_year,\n",
    "        \"pageSize\": 1\n",
    "    }\n",
    "    url = f\"{base_url}?{requests.compat.urlencode(params)}\"\n",
    "    return url"
   ]
  },
  {
   "cell_type": "markdown",
   "metadata": {},
   "source": [
    "*Get open access articles*"
   ]
  },
  {
   "cell_type": "code",
   "execution_count": 6,
   "metadata": {},
   "outputs": [],
   "source": [
    "def build_oa_url(institution_id, start_year, end_year, base_url):\n",
    "    params = {\n",
    "        \"relOrganizationId\": institution_id,\n",
    "        \"type\": \"publication\",\n",
    "        \"instanceType\": \"Article\",\n",
    "        \"bestOpenAccessRightLabel\": \"OPEN\", \n",
    "        \"fromPublicationDate\": start_year,\n",
    "        \"toPublicationDate\": end_year,\n",
    "        \"pageSize\": 1\n",
    "    }\n",
    "    url = f\"{base_url}?{requests.compat.urlencode(params)}\"\n",
    "    return url"
   ]
  },
  {
   "cell_type": "markdown",
   "metadata": {},
   "source": [
    "##### Step 1.5: Fetch Data from OpenAIRE"
   ]
  },
  {
   "cell_type": "code",
   "execution_count": 7,
   "metadata": {},
   "outputs": [],
   "source": [
    "def fetch_data(url):\n",
    "    response = requests.get(url)\n",
    "    print(f\"Request URL: {response.url}\")\n",
    "    return validate_response(response)"
   ]
  },
  {
   "cell_type": "markdown",
   "metadata": {},
   "source": [
    "##### Step 1.6: Process Data"
   ]
  },
  {
   "cell_type": "code",
   "execution_count": 8,
   "metadata": {},
   "outputs": [],
   "source": [
    "def process_data(data):\n",
    "    total_publications = data.get(\"header\", {}).get(\"numFound\", 0)\n",
    "    return total_publications"
   ]
  },
  {
   "cell_type": "markdown",
   "metadata": {},
   "source": [
    "##### Step 1.7: Define Parameters\n",
    "Here, we specify:\n",
    "- `institution_id`: The ID of the institution to analyze.\n",
    "    - OpenAIRE uses the term \"Organization\" for institution\n",
    "    - Search for your institution's ROR from https://explore.openaire.eu/search/advanced/organizations \n",
    "    - IDs for institutions begin with \"https://ror.org/\" followed by letters and numbers.\n",
    "- `start_year` and `current_year`: The range of publication years to analyze.\n",
    "    - we use datetime, but you can just type in the years you want"
   ]
  },
  {
   "cell_type": "code",
   "execution_count": 9,
   "metadata": {},
   "outputs": [],
   "source": [
    "#institution_id = \"openorgs____::fb1e14f93f04d43e1a10a9f17d12c669\" # Example: OpenOrgs ID of ETH Zürich\n",
    "institution_id = next(iter(get_openorgs_from_ror(\"https://ror.org/05a28rw58\")), None) # Example: ROR ID of ETH Zürich\n",
    "base_url = \"https://api.openaire.eu/graph/v1/researchProducts\"\n",
    "current_year = datetime.now().year\n",
    "start_year = current_year - 9\n",
    "end_year = current_year"
   ]
  },
  {
   "cell_type": "markdown",
   "metadata": {},
   "source": [
    "##### Step 1.8: Fetch and Process Data for each Category"
   ]
  },
  {
   "cell_type": "code",
   "execution_count": 10,
   "metadata": {},
   "outputs": [
    {
     "name": "stdout",
     "output_type": "stream",
     "text": [
      "Request URL: https://api.openaire.eu/graph/v1/researchProducts?relOrganizationId=openorgs____%3A%3Afb1e14f93f04d43e1a10a9f17d12c669&type=publication&instanceType=Article&fromPublicationDate=2016&toPublicationDate=2025&page=1&pageSize=100\n",
      "Request URL: https://api.openaire.eu/graph/v1/researchProducts?relOrganizationId=openorgs____%3A%3Afb1e14f93f04d43e1a10a9f17d12c669&type=publication&instanceType=Article&bestOpenAccessRightLabel=CLOSED&fromPublicationDate=2016&toPublicationDate=2025&pageSize=1\n",
      "Request URL: https://api.openaire.eu/graph/v1/researchProducts?relOrganizationId=openorgs____%3A%3Afb1e14f93f04d43e1a10a9f17d12c669&type=publication&instanceType=Article&bestOpenAccessRightLabel=OPEN&fromPublicationDate=2016&toPublicationDate=2025&pageSize=1\n"
     ]
    }
   ],
   "source": [
    "# Fetch total publications\n",
    "url = build_url(institution_id, start_year, end_year, base_url=base_url)\n",
    "data = fetch_data(url)\n",
    "total_count = process_data(data)\n",
    "\n",
    "# Fetch closed access publications\n",
    "non_oa_url = build_non_oa_url(institution_id, start_year, end_year, base_url=base_url)\n",
    "non_oa_data = fetch_data(non_oa_url)\n",
    "non_oa_count = process_data(non_oa_data)\n",
    "\n",
    "# Fetch OA publications\n",
    "oa_url = build_oa_url(institution_id, start_year, end_year, base_url=base_url)\n",
    "oa_data = fetch_data(oa_url)\n",
    "oa_count = process_data(oa_data)"
   ]
  },
  {
   "cell_type": "markdown",
   "metadata": {},
   "source": [
    "##### Step 1.9: Compute Ratios and create DataFrame"
   ]
  },
  {
   "cell_type": "code",
   "execution_count": 11,
   "metadata": {},
   "outputs": [
    {
     "data": {
      "text/html": [
       "<div>\n",
       "<style scoped>\n",
       "    .dataframe tbody tr th:only-of-type {\n",
       "        vertical-align: middle;\n",
       "    }\n",
       "\n",
       "    .dataframe tbody tr th {\n",
       "        vertical-align: top;\n",
       "    }\n",
       "\n",
       "    .dataframe thead th {\n",
       "        text-align: right;\n",
       "    }\n",
       "</style>\n",
       "<table border=\"1\" class=\"dataframe\">\n",
       "  <thead>\n",
       "    <tr style=\"text-align: right;\">\n",
       "      <th></th>\n",
       "      <th>Total Publications</th>\n",
       "      <th>Open Access Publications</th>\n",
       "      <th>Closed Access Publications</th>\n",
       "      <th>OA Ratio (%)</th>\n",
       "      <th>CA Ratio (%)</th>\n",
       "      <th>Other (%)</th>\n",
       "    </tr>\n",
       "  </thead>\n",
       "  <tbody>\n",
       "    <tr>\n",
       "      <th>0</th>\n",
       "      <td>84559</td>\n",
       "      <td>68457</td>\n",
       "      <td>9919</td>\n",
       "      <td>80.957675</td>\n",
       "      <td>11.730271</td>\n",
       "      <td>7.312054</td>\n",
       "    </tr>\n",
       "  </tbody>\n",
       "</table>\n",
       "</div>"
      ],
      "text/plain": [
       "   Total Publications  Open Access Publications  Closed Access Publications  \\\n",
       "0               84559                     68457                        9919   \n",
       "\n",
       "   OA Ratio (%)  CA Ratio (%)  Other (%)  \n",
       "0     80.957675     11.730271   7.312054  "
      ]
     },
     "execution_count": 11,
     "metadata": {},
     "output_type": "execute_result"
    }
   ],
   "source": [
    "# Compute ratios\n",
    "oa_ratio = (oa_count / total_count) * 100\n",
    "non_oa_ratio = (non_oa_count / total_count) * 100\n",
    "overall_ratio = 100 - oa_ratio - non_oa_ratio\n",
    "\n",
    "# Create a DataFrame\n",
    "df = pd.DataFrame({\n",
    "    \"Total Publications\": [total_count],\n",
    "    \"Open Access Publications\": [oa_count],\n",
    "    \"Closed Access Publications\": [non_oa_count],\n",
    "    \"OA Ratio (%)\": [oa_ratio],\n",
    "    \"CA Ratio (%)\": [non_oa_ratio],\n",
    "    \"Other (%)\": [overall_ratio]\n",
    "})\n",
    "    \n",
    "df"
   ]
  },
  {
   "cell_type": "markdown",
   "metadata": {},
   "source": [
    ">Note: \"Other\" include the categories *Restricted*, *Open Source*, *Embargo* and else non labeled."
   ]
  },
  {
   "cell_type": "markdown",
   "metadata": {},
   "source": [
    "##### Step 1.10: Plot Donut Chart\n",
    "> Note: Essentially you can choose any kind of visualization you think suits your analysis. Here, we provide possible examples, which you can customize as well:"
   ]
  },
  {
   "cell_type": "code",
   "execution_count": 16,
   "metadata": {},
   "outputs": [],
   "source": [
    "def plot_oa_donut(oa_count, non_oa_count, overall_ratio):\n",
    "    labels = [\"Open Access\", \"Closed Access\", \"Other\"]\n",
    "    sizes = [oa_count, non_oa_count, overall_ratio]\n",
    "    plot_colors = [colors[\"teal\"][8], colors[\"red\"][7], colors[\"gray\"][5]]\n",
    "\n",
    "    fig, ax = plt.subplots(figsize=(6, 6))\n",
    "\n",
    "    wedges, texts, autotexts = ax.pie(\n",
    "        sizes,\n",
    "        labels=labels,\n",
    "        colors=plot_colors,\n",
    "        autopct='%1.1f%%',\n",
    "        pctdistance=0.85,\n",
    "        textprops={\"fontsize\": 14}\n",
    "    )\n",
    "\n",
    "    # Draw center circle to make it a donut\n",
    "    centre_circle = plt.Circle((0, 0), 0.70, fc='white')\n",
    "    ax.add_artist(centre_circle)\n",
    "\n",
    "    # Formatting title\n",
    "    ax.set_title(\n",
    "        \"Proportions of Open Access vs Closed Access Articles at ETH\",\n",
    "        fontsize=16,\n",
    "        fontweight='bold'\n",
    "    )\n",
    "\n",
    "    ax.axis('equal')  # Equal aspect ratio ensures that pie is drawn as a circle.\n",
    "    plt.tight_layout()\n",
    "    plt.show()"
   ]
  },
  {
   "cell_type": "markdown",
   "metadata": {},
   "source": [
    "##### Step 1.11: Display Plot"
   ]
  },
  {
   "cell_type": "code",
   "execution_count": 17,
   "metadata": {},
   "outputs": [
    {
     "data": {
      "image/png": "[encoded data removed]",
      "text/plain": [
       "<Figure size 600x600 with 1 Axes>"
      ]
     },
     "metadata": {},
     "output_type": "display_data"
    }
   ],
   "source": [
    "plot_oa_donut(df[\"OA Ratio (%)\"].iloc[0], df[\"CA Ratio (%)\"].iloc[0], df[\"Other (%)\"].iloc[0])"
   ]
  },
  {
   "cell_type": "markdown",
   "metadata": {},
   "source": [
    "### Analysis 2: Assess Article Proportions by Open Access Status\n",
    "First, we need to understand how OpenAIRE categorizes the different types of status:\n",
    "\n",
    "OpenAIRE provides different metadata fields to determine how openly accessible a publication is.\n",
    "\n",
    "**Key Metadata Fields**\n",
    "1. `bestOpenAccessRightLabel`\n",
    "    - Describes the overall access level of a publication.\n",
    "    - Possible values: OPEN, CLOSED, EMBARGO, RESTRICTED, UNKNOWN, or empty.\n",
    "2. `isInDiamondJournal`\n",
    "    - Indicates if a publication is in a Diamond Open Access journal (where both readers and authors do not have to pay).\n",
    "    - Possible values: True, False, or missing (NaN).\n",
    "3. `isGreen`\n",
    "    - Shows if a publication is Green Open Access (a version is available in a repository).\n",
    "    - Possible values: True, False, or missing (NaN).\n",
    "4. `openAccessColor`\n",
    "    - Describes the specific OA type:\n",
    "        - Gold → Published in a fully open-access journal.\n",
    "        - Hybrid → Published in a subscription journal, but the author paid for open access.\n",
    "        - Bronze → Freely available, but without an explicit open license.\n",
    "        - Missing (NaN) → No classification available.\n",
    "\n",
    "##### How We Categorize Publications\n",
    "Each publication can sometimes fit into multiple categories, so we follow these rules to ensure each one appears only once in our analysis:\n",
    "\n",
    "1. Closed Access (`closed`)\n",
    "    - Publications where `bestOpenAccessRightLabel` = \"CLOSED\".\n",
    "    - These articles are behind a paywall.\n",
    "\n",
    "2. Other Access (`other`)\n",
    "    - Publications without a `bestOpenAccessRightLabel` or labeled as something other than \"OPEN\" or \"CLOSED\".\n",
    "\n",
    "3. For publications labeled as \"OPEN\" (`bestOpenAccessRightLabel` = \"OPEN\"), we further categorize them:\n",
    "    - Diamond Open Access (diamond) → If `isInDiamondJournal` = True.\n",
    "    - Gold Open Access (gold) → If `isInDiamondJournal` = False and `openAccessColor` = \"gold\".\n",
    "    - Green Open Access (green) → If `isInDiamondJournal` = False, isGreen = True, and `openAccessColor` ≠ \"gold\".\n",
    "    - Bronze Open Access (bronze) → If `isInDiamondJournal` = False, isGreen = False, and `openAccessColor` = \"bronze\".\n",
    "    - Hybrid Open Access (hybrid) → If `isInDiamondJournal` = False, isGreen = False, and `openAccessColor` = \"hybrid\".\n",
    "    - Other Open Access (other open) → If a publication is labeled as \"OPEN\" but does not fit into the above categories (e.g., missing `openAccessColor`).\n",
    "\n",
    "This classification system is inspired by the method described in the article* on Open Access indicators in the CWTS Leiden Ranking 2019 [read more](https://www.cwts.nl/blog?article=n-r2w2a4).\n",
    "\n",
    "*Van Leeuwen, T. N., Costas, R., & Robinson-Garcia, N. (2019). Indicators of open access publishing in the CWTS Leiden Ranking 2019. CWTS Blog, https://www.cwts.nl/blog?article=n-r2w2a4, accessed 06.03.2025 "
   ]
  },
  {
   "cell_type": "markdown",
   "metadata": {},
   "source": [
    "##### Step 2.1: Build URLs for a specific status:"
   ]
  },
  {
   "cell_type": "markdown",
   "metadata": {},
   "source": [
    "*Diamond*"
   ]
  },
  {
   "cell_type": "code",
   "execution_count": 18,
   "metadata": {},
   "outputs": [],
   "source": [
    "def build_diamond_url(institution_id, start_year, end_year, base_url):\n",
    "    params = {\n",
    "        \"relOrganizationId\": institution_id,\n",
    "        \"type\": \"publication\",\n",
    "        \"instanceType\": \"Article\",\n",
    "        \"bestOpenAccessRightLabel\": \"OPEN\",\n",
    "        \"isInDiamondJournal\": True,\n",
    "        \"fromPublicationDate\": start_year,\n",
    "        \"toPublicationDate\": end_year,\n",
    "        \"pageSize\": 1\n",
    "    }\n",
    "    url = f\"{base_url}?{requests.compat.urlencode(params)}\"\n",
    "    return url"
   ]
  },
  {
   "cell_type": "markdown",
   "metadata": {},
   "source": [
    "*Gold*"
   ]
  },
  {
   "cell_type": "code",
   "execution_count": 19,
   "metadata": {},
   "outputs": [],
   "source": [
    "def build_gold_url(institution_id, start_year, end_year, base_url):\n",
    "    params = {\n",
    "        \"relOrganizationId\": institution_id,\n",
    "        \"type\": \"publication\",\n",
    "        \"instanceType\": \"Article\",\n",
    "        \"bestOpenAccessRightLabel\": \"OPEN\",\n",
    "        \"isInDiamondJournal\": False,\n",
    "        \"openAccessColor\": \"gold\",\n",
    "        \"fromPublicationDate\": start_year,\n",
    "        \"toPublicationDate\": end_year,\n",
    "        \"pageSize\": 1\n",
    "    }\n",
    "    url = f\"{base_url}?{requests.compat.urlencode(params)}\"\n",
    "    return url"
   ]
  },
  {
   "cell_type": "markdown",
   "metadata": {},
   "source": [
    "*Green*"
   ]
  },
  {
   "cell_type": "code",
   "execution_count": 20,
   "metadata": {},
   "outputs": [],
   "source": [
    "def build_green_total_url(institution_id, start_year, end_year, base_url):\n",
    "    params = {\n",
    "        \"relOrganizationId\": institution_id,\n",
    "        \"type\": \"publication\",\n",
    "        \"instanceType\": \"Article\",\n",
    "        \"bestOpenAccessRightLabel\": \"OPEN\",\n",
    "        \"isInDiamondJournal\": False,\n",
    "        \"isGreen\": True,\n",
    "        \"fromPublicationDate\": start_year,\n",
    "        \"toPublicationDate\": end_year,\n",
    "        \"pageSize\": 1\n",
    "    }\n",
    "    url = f\"{base_url}?{requests.compat.urlencode(params)}\"\n",
    "    return url\n",
    "\n",
    "\n",
    "def build_green_gold_url(institution_id, start_year, end_year, base_url):\n",
    "    params = {\n",
    "        \"relOrganizationId\": institution_id,\n",
    "        \"type\": \"publication\",\n",
    "        \"instanceType\": \"Article\",\n",
    "        \"bestOpenAccessRightLabel\": \"OPEN\",\n",
    "        \"isInDiamondJournal\": False,\n",
    "        \"isGreen\": True,\n",
    "        \"openAccessColor\": \"gold\",\n",
    "        \"fromPublicationDate\": start_year,\n",
    "        \"toPublicationDate\": end_year,\n",
    "        \"pageSize\": 1\n",
    "    }\n",
    "    url = f\"{base_url}?{requests.compat.urlencode(params)}\"\n",
    "    return url"
   ]
  },
  {
   "cell_type": "markdown",
   "metadata": {},
   "source": [
    "*Bronze*"
   ]
  },
  {
   "cell_type": "code",
   "execution_count": 21,
   "metadata": {},
   "outputs": [],
   "source": [
    "def build_bronze_url(institution_id, start_year, end_year, base_url):\n",
    "    params = {\n",
    "        \"relOrganizationId\": institution_id,\n",
    "        \"type\": \"publication\",\n",
    "        \"instanceType\": \"Article\",\n",
    "        \"bestOpenAccessRightLabel\": \"OPEN\",\n",
    "        \"isInDiamondJournal\": False,\n",
    "        \"isGreen\": False,\n",
    "        \"openAccessColor\": \"bronze\",\n",
    "        \"fromPublicationDate\": start_year,\n",
    "        \"toPublicationDate\": end_year,\n",
    "        \"pageSize\": 1\n",
    "    }\n",
    "    url = f\"{base_url}?{requests.compat.urlencode(params)}\"\n",
    "    return url"
   ]
  },
  {
   "cell_type": "markdown",
   "metadata": {},
   "source": [
    "*Hybrid*"
   ]
  },
  {
   "cell_type": "code",
   "execution_count": 22,
   "metadata": {},
   "outputs": [],
   "source": [
    "def build_hybrid_url(institution_id, start_year, end_year, base_url):\n",
    "    params = {\n",
    "        \"relOrganizationId\": institution_id,\n",
    "        \"type\": \"publication\",\n",
    "        \"instanceType\": \"Article\",\n",
    "        \"bestOpenAccessRightLabel\": \"OPEN\",\n",
    "        \"isInDiamondJournal\": False,\n",
    "        \"isGreen\": False,\n",
    "        \"openAccessColor\": \"hybrid\",\n",
    "        \"fromPublicationDate\": start_year,\n",
    "        \"toPublicationDate\": end_year,\n",
    "        \"pageSize\": 1\n",
    "    }\n",
    "    url = f\"{base_url}?{requests.compat.urlencode(params)}\"\n",
    "    return url"
   ]
  },
  {
   "cell_type": "markdown",
   "metadata": {},
   "source": [
    "*Other Open*"
   ]
  },
  {
   "cell_type": "code",
   "execution_count": 23,
   "metadata": {},
   "outputs": [],
   "source": [
    "def build_other_oa_url(institution_id, start_year, end_year, base_url):\n",
    "    params = {\n",
    "        \"relOrganizationId\": institution_id,\n",
    "        \"type\": \"publication\",\n",
    "        \"instanceType\": \"Article\",\n",
    "        \"bestOpenAccessRightLabel\": \"OPEN\",\n",
    "        \"fromPublicationDate\": start_year,\n",
    "        \"toPublicationDate\": end_year,\n",
    "        \"pageSize\": 1\n",
    "    }\n",
    "    url = f\"{base_url}?{requests.compat.urlencode(params)}\"\n",
    "    return url"
   ]
  },
  {
   "cell_type": "markdown",
   "metadata": {},
   "source": [
    "*Other*"
   ]
  },
  {
   "cell_type": "code",
   "execution_count": 24,
   "metadata": {},
   "outputs": [],
   "source": [
    "def build_other_url(institution_id, start_year, end_year, base_url):\n",
    "    params = {\n",
    "        \"relOrganizationId\": institution_id,\n",
    "        \"type\": \"publication\",\n",
    "        \"instanceType\": \"Article\",\n",
    "        \"fromPublicationDate\": start_year,\n",
    "        \"toPublicationDate\": end_year,\n",
    "        \"pageSize\": 1\n",
    "    }\n",
    "    url = f\"{base_url}?{requests.compat.urlencode(params)}\"\n",
    "    return url"
   ]
  },
  {
   "cell_type": "markdown",
   "metadata": {},
   "source": [
    "##### Step 2.2: Build URL for each status:"
   ]
  },
  {
   "cell_type": "code",
   "execution_count": 25,
   "metadata": {},
   "outputs": [],
   "source": [
    "green_total = build_green_total_url(institution_id, start_year, end_year, base_url) \n",
    "green_gold = build_green_gold_url(institution_id, start_year, end_year, base_url)\n",
    "bronze_url = build_bronze_url(institution_id, start_year, end_year, base_url)\n",
    "gold_url = build_gold_url(institution_id, start_year, end_year, base_url)\n",
    "hybrid_url = build_hybrid_url(institution_id, start_year, end_year, base_url)\n",
    "diamond_url = build_diamond_url(institution_id, start_year, end_year, base_url)\n",
    "other_oa_url = build_other_oa_url(institution_id, start_year, end_year, base_url)\n",
    "other_url = build_other_url(institution_id, start_year, end_year, base_url)"
   ]
  },
  {
   "cell_type": "markdown",
   "metadata": {},
   "source": [
    "##### Step 2.3: Fetch and process data for each status "
   ]
  },
  {
   "cell_type": "code",
   "execution_count": 26,
   "metadata": {},
   "outputs": [
    {
     "name": "stdout",
     "output_type": "stream",
     "text": [
      "Request URL: https://api.openaire.eu/graph/v1/researchProducts?relOrganizationId=openorgs____%3A%3Afb1e14f93f04d43e1a10a9f17d12c669&type=publication&instanceType=Article&bestOpenAccessRightLabel=OPEN&isInDiamondJournal=False&isGreen=True&fromPublicationDate=2016&toPublicationDate=2025&pageSize=1\n",
      "Request URL: https://api.openaire.eu/graph/v1/researchProducts?relOrganizationId=openorgs____%3A%3Afb1e14f93f04d43e1a10a9f17d12c669&type=publication&instanceType=Article&bestOpenAccessRightLabel=OPEN&isInDiamondJournal=False&isGreen=True&openAccessColor=gold&fromPublicationDate=2016&toPublicationDate=2025&pageSize=1\n"
     ]
    },
    {
     "data": {
      "text/plain": [
       "39511"
      ]
     },
     "execution_count": 26,
     "metadata": {},
     "output_type": "execute_result"
    }
   ],
   "source": [
    "green_total_count = process_data(fetch_data(green_total))\n",
    "green_gold_count = process_data(fetch_data(green_gold))\n",
    "green_count = green_total_count - green_gold_count\n",
    "green_count"
   ]
  },
  {
   "cell_type": "code",
   "execution_count": 27,
   "metadata": {},
   "outputs": [
    {
     "name": "stdout",
     "output_type": "stream",
     "text": [
      "Request URL: https://api.openaire.eu/graph/v1/researchProducts?relOrganizationId=openorgs____%3A%3Afb1e14f93f04d43e1a10a9f17d12c669&type=publication&instanceType=Article&bestOpenAccessRightLabel=OPEN&isInDiamondJournal=False&isGreen=False&openAccessColor=bronze&fromPublicationDate=2016&toPublicationDate=2025&pageSize=1\n",
      "Request URL: https://api.openaire.eu/graph/v1/researchProducts?relOrganizationId=openorgs____%3A%3Afb1e14f93f04d43e1a10a9f17d12c669&type=publication&instanceType=Article&bestOpenAccessRightLabel=OPEN&isInDiamondJournal=False&openAccessColor=gold&fromPublicationDate=2016&toPublicationDate=2025&pageSize=1\n",
      "Request URL: https://api.openaire.eu/graph/v1/researchProducts?relOrganizationId=openorgs____%3A%3Afb1e14f93f04d43e1a10a9f17d12c669&type=publication&instanceType=Article&bestOpenAccessRightLabel=OPEN&isInDiamondJournal=False&isGreen=False&openAccessColor=hybrid&fromPublicationDate=2016&toPublicationDate=2025&pageSize=1\n",
      "Request URL: https://api.openaire.eu/graph/v1/researchProducts?relOrganizationId=openorgs____%3A%3Afb1e14f93f04d43e1a10a9f17d12c669&type=publication&instanceType=Article&bestOpenAccessRightLabel=OPEN&isInDiamondJournal=True&fromPublicationDate=2016&toPublicationDate=2025&pageSize=1\n",
      "Request URL: https://api.openaire.eu/graph/v1/researchProducts?relOrganizationId=openorgs____%3A%3Afb1e14f93f04d43e1a10a9f17d12c669&type=publication&instanceType=Article&bestOpenAccessRightLabel=OPEN&fromPublicationDate=2016&toPublicationDate=2025&pageSize=1\n",
      "Request URL: https://api.openaire.eu/graph/v1/researchProducts?relOrganizationId=openorgs____%3A%3Afb1e14f93f04d43e1a10a9f17d12c669&type=publication&instanceType=Article&fromPublicationDate=2016&toPublicationDate=2025&pageSize=1\n"
     ]
    }
   ],
   "source": [
    "bronze_count = process_data(fetch_data(bronze_url))\n",
    "gold_count = process_data(fetch_data(gold_url))\n",
    "hybrid_count = process_data(fetch_data(hybrid_url))\n",
    "diamond_count = process_data(fetch_data(diamond_url))\n",
    "other_oa_count = process_data(fetch_data(other_oa_url))\n",
    "other_count = process_data(fetch_data(other_url))"
   ]
  },
  {
   "cell_type": "code",
   "execution_count": 28,
   "metadata": {},
   "outputs": [
    {
     "data": {
      "text/plain": [
       "226843"
      ]
     },
     "execution_count": 28,
     "metadata": {},
     "output_type": "execute_result"
    }
   ],
   "source": [
    "total_count = green_count + bronze_count + gold_count + diamond_count + other_oa_count + other_count + non_oa_count\n",
    "total_count"
   ]
  },
  {
   "cell_type": "markdown",
   "metadata": {},
   "source": [
    "##### Step 2.4: Compute Ratios\n",
    "Other and Other OA ratios are currently commented, if you want to include them in your analysis and visualizations, you can comment them out and make sure to include them in the rest of the code."
   ]
  },
  {
   "cell_type": "code",
   "execution_count": 29,
   "metadata": {},
   "outputs": [],
   "source": [
    "green_ratio = (green_count / total_count) * 100\n",
    "gold_ratio = (gold_count / total_count) * 100\n",
    "hybrid_ratio = (hybrid_count / total_count) * 100\n",
    "bronze_ratio = (bronze_count / total_count) * 100\n",
    "diamond_ratio = (diamond_count / total_count) * 100\n",
    "non_oa_ratio = (non_oa_count / total_count) * 100\n",
    "#other_ratio = (other_count / total_count) * 100\n",
    "#other_oa_ratio = (other_oa_count / total_count) * 100"
   ]
  },
  {
   "cell_type": "markdown",
   "metadata": {},
   "source": [
    "##### Step 2.5: Create DataFrame"
   ]
  },
  {
   "cell_type": "code",
   "execution_count": 30,
   "metadata": {},
   "outputs": [
    {
     "data": {
      "text/html": [
       "<div>\n",
       "<style scoped>\n",
       "    .dataframe tbody tr th:only-of-type {\n",
       "        vertical-align: middle;\n",
       "    }\n",
       "\n",
       "    .dataframe tbody tr th {\n",
       "        vertical-align: top;\n",
       "    }\n",
       "\n",
       "    .dataframe thead th {\n",
       "        text-align: right;\n",
       "    }\n",
       "</style>\n",
       "<table border=\"1\" class=\"dataframe\">\n",
       "  <thead>\n",
       "    <tr style=\"text-align: right;\">\n",
       "      <th></th>\n",
       "      <th>Status</th>\n",
       "      <th>Count</th>\n",
       "      <th>Ratios (%)</th>\n",
       "    </tr>\n",
       "  </thead>\n",
       "  <tbody>\n",
       "    <tr>\n",
       "      <th>0</th>\n",
       "      <td>closed</td>\n",
       "      <td>9919</td>\n",
       "      <td>4.372628</td>\n",
       "    </tr>\n",
       "    <tr>\n",
       "      <th>1</th>\n",
       "      <td>green</td>\n",
       "      <td>39511</td>\n",
       "      <td>17.417774</td>\n",
       "    </tr>\n",
       "    <tr>\n",
       "      <th>2</th>\n",
       "      <td>gold</td>\n",
       "      <td>21598</td>\n",
       "      <td>9.521123</td>\n",
       "    </tr>\n",
       "    <tr>\n",
       "      <th>3</th>\n",
       "      <td>hybrid</td>\n",
       "      <td>3415</td>\n",
       "      <td>1.505446</td>\n",
       "    </tr>\n",
       "    <tr>\n",
       "      <th>4</th>\n",
       "      <td>bronze</td>\n",
       "      <td>2745</td>\n",
       "      <td>1.210088</td>\n",
       "    </tr>\n",
       "    <tr>\n",
       "      <th>5</th>\n",
       "      <td>diamond</td>\n",
       "      <td>54</td>\n",
       "      <td>0.023805</td>\n",
       "    </tr>\n",
       "  </tbody>\n",
       "</table>\n",
       "</div>"
      ],
      "text/plain": [
       "    Status  Count  Ratios (%)\n",
       "0   closed   9919    4.372628\n",
       "1    green  39511   17.417774\n",
       "2     gold  21598    9.521123\n",
       "3   hybrid   3415    1.505446\n",
       "4   bronze   2745    1.210088\n",
       "5  diamond     54    0.023805"
      ]
     },
     "execution_count": 30,
     "metadata": {},
     "output_type": "execute_result"
    }
   ],
   "source": [
    "df_oa_status = pd.DataFrame({\n",
    "    \"Status\": [\"closed\", \"green\", \"gold\", \"hybrid\", \"bronze\", \"diamond\"],\n",
    "    \"Count\": [non_oa_count, green_count, gold_count, hybrid_count, bronze_count, diamond_count],\n",
    "    \"Ratios (%)\": [non_oa_ratio, green_ratio, gold_ratio, hybrid_ratio, bronze_ratio, diamond_ratio]\n",
    "})\n",
    "df_oa_status"
   ]
  },
  {
   "cell_type": "code",
   "execution_count": 31,
   "metadata": {},
   "outputs": [
    {
     "data": {
      "text/html": [
       "<div>\n",
       "<style scoped>\n",
       "    .dataframe tbody tr th:only-of-type {\n",
       "        vertical-align: middle;\n",
       "    }\n",
       "\n",
       "    .dataframe tbody tr th {\n",
       "        vertical-align: top;\n",
       "    }\n",
       "\n",
       "    .dataframe thead th {\n",
       "        text-align: right;\n",
       "    }\n",
       "</style>\n",
       "<table border=\"1\" class=\"dataframe\">\n",
       "  <thead>\n",
       "    <tr style=\"text-align: right;\">\n",
       "      <th></th>\n",
       "      <th>Status</th>\n",
       "      <th>Count</th>\n",
       "      <th>Ratios (%)</th>\n",
       "    </tr>\n",
       "  </thead>\n",
       "  <tbody>\n",
       "    <tr>\n",
       "      <th>0</th>\n",
       "      <td>closed</td>\n",
       "      <td>9919</td>\n",
       "      <td>4.372628</td>\n",
       "    </tr>\n",
       "    <tr>\n",
       "      <th>1</th>\n",
       "      <td>green</td>\n",
       "      <td>39511</td>\n",
       "      <td>17.417774</td>\n",
       "    </tr>\n",
       "    <tr>\n",
       "      <th>2</th>\n",
       "      <td>gold</td>\n",
       "      <td>21598</td>\n",
       "      <td>9.521123</td>\n",
       "    </tr>\n",
       "    <tr>\n",
       "      <th>3</th>\n",
       "      <td>hybrid</td>\n",
       "      <td>3415</td>\n",
       "      <td>1.505446</td>\n",
       "    </tr>\n",
       "    <tr>\n",
       "      <th>4</th>\n",
       "      <td>bronze</td>\n",
       "      <td>2745</td>\n",
       "      <td>1.210088</td>\n",
       "    </tr>\n",
       "    <tr>\n",
       "      <th>5</th>\n",
       "      <td>diamond</td>\n",
       "      <td>54</td>\n",
       "      <td>0.023805</td>\n",
       "    </tr>\n",
       "  </tbody>\n",
       "</table>\n",
       "</div>"
      ],
      "text/plain": [
       "    Status  Count  Ratios (%)\n",
       "0   closed   9919    4.372628\n",
       "1    green  39511   17.417774\n",
       "2     gold  21598    9.521123\n",
       "3   hybrid   3415    1.505446\n",
       "4   bronze   2745    1.210088\n",
       "5  diamond     54    0.023805"
      ]
     },
     "execution_count": 31,
     "metadata": {},
     "output_type": "execute_result"
    }
   ],
   "source": [
    "df_oa_status = pd.DataFrame({\n",
    "    \"Status\": [\"closed\", \"green\", \"gold\", \"hybrid\", \"bronze\", \"diamond\"],\n",
    "    \"Count\": [non_oa_count, green_count, gold_count, hybrid_count, bronze_count, diamond_count],\n",
    "    \"Ratios (%)\": [non_oa_ratio, green_ratio, gold_ratio, hybrid_ratio, bronze_ratio, diamond_ratio]\n",
    "})\n",
    "df_oa_status"
   ]
  },
  {
   "cell_type": "markdown",
   "metadata": {},
   "source": [
    "##### Step 2.6: Create Plot for Bar Chart\n",
    "Visualize the counts of open access status within the given year range."
   ]
  },
  {
   "cell_type": "code",
   "execution_count": null,
   "metadata": {},
   "outputs": [],
   "source": [
    "def plot_total_oa_status(df, title):\n",
    "    plot_colors = [colors[\"gray\"][8], colors[\"teal\"][8], colors[\"yellow\"][7], colors[\"blue\"][8], colors[\"orange\"][8], colors[\"pink\"][5]]\n",
    "    \n",
    "    fig, ax = plt.subplots(figsize=(12, 8))\n",
    "    bars = ax.bar(df[\"Status\"], df[\"Count\"], color=plot_colors)\n",
    "\n",
    "    # Add count percentages on top of each bar\n",
    "    for bar, ratio in zip(bars, df[\"Ratios (%)\"]):\n",
    "        height = bar.get_height()\n",
    "        ax.text(\n",
    "            bar.get_x() + bar.get_width() / 2,\n",
    "            height + 200,\n",
    "            f\"{ratio:.2f}%\",\n",
    "            ha=\"center\",\n",
    "            fontsize=12,\n",
    "            fontweight=\"bold\"\n",
    "        )\n",
    "\n",
    "    # Axis formatting\n",
    "    ax.set_xlabel(\"Open Access Status\", fontsize=16)\n",
    "    ax.set_ylabel(\"Count of Articles\", fontsize=16)\n",
    "    ax.set_title(title, fontsize=20, fontweight=\"bold\")\n",
    "    ax.tick_params(axis=\"x\", labelsize=12)\n",
    "    ax.spines[['top', 'right']].set_visible(False)\n",
    "\n",
    "    plt.tight_layout()\n",
    "    plt.show()"
   ]
  },
  {
   "cell_type": "markdown",
   "metadata": {},
   "source": [
    "##### Step 2.7: Display Plot"
   ]
  },
  {
   "cell_type": "code",
   "execution_count": 33,
   "metadata": {},
   "outputs": [
    {
     "data": {
      "image/png": "[encoded data removed]",
      "text/plain": [
       "<Figure size 1200x800 with 1 Axes>"
      ]
     },
     "metadata": {},
     "output_type": "display_data"
    }
   ],
   "source": [
    "plot_total_oa_status(df_oa_status, \"Total ETH Zürich Articles by Open Access Status\")"
   ]
  },
  {
   "cell_type": "markdown",
   "metadata": {},
   "source": [
    "#### (Alternative / Extension) Proportions of Articles by Open Access Status for each year."
   ]
  },
  {
   "cell_type": "markdown",
   "metadata": {},
   "source": [
    "##### Step 2.8: Fetch status data for each year"
   ]
  },
  {
   "cell_type": "code",
   "execution_count": 34,
   "metadata": {},
   "outputs": [],
   "source": [
    "def fetch_oa_status_by_year(institution_id, start_year, end_year, base_url):\n",
    "    oa_status_counts_by_year = {\n",
    "        \"Year\": [],\n",
    "        \"green\": [],\n",
    "        \"bronze\": [],\n",
    "        \"gold\": [],\n",
    "        \"hybrid\": [],\n",
    "        \"closed\": [],\n",
    "        \"diamond\": []\n",
    "    }\n",
    "\n",
    "    for year in range(start_year, end_year + 1):\n",
    "        green_total = build_green_total_url(institution_id, year, year, base_url)\n",
    "        green_gold = build_green_gold_url(institution_id, year, year, base_url)\n",
    "        bronze_url = build_bronze_url(institution_id, year, year, base_url)\n",
    "        gold_url = build_gold_url(institution_id, year, year, base_url)\n",
    "        hybrid_url = build_hybrid_url(institution_id, year, year, base_url)\n",
    "        non_oa_url = build_non_oa_url(institution_id, year, year, base_url)  \n",
    "        diamond_url = build_diamond_url(institution_id, year, year, base_url)\n",
    "\n",
    "        green_total_count = process_data(fetch_data(green_total))\n",
    "        green_gold_count = process_data(fetch_data(green_gold))\n",
    "        green_count = green_total_count - green_gold_count\n",
    "        bronze_count = process_data(fetch_data(bronze_url))\n",
    "        gold_count = process_data(fetch_data(gold_url))\n",
    "        hybrid_count = process_data(fetch_data(hybrid_url))\n",
    "        non_oa_count = process_data(fetch_data(non_oa_url))\n",
    "        diamond_count = process_data(fetch_data(diamond_url))\n",
    "\n",
    "        # Append data for each year\n",
    "        oa_status_counts_by_year[\"Year\"].append(year)\n",
    "        oa_status_counts_by_year[\"green\"].append(green_count)\n",
    "        oa_status_counts_by_year[\"bronze\"].append(bronze_count)\n",
    "        oa_status_counts_by_year[\"gold\"].append(gold_count)\n",
    "        oa_status_counts_by_year[\"hybrid\"].append(hybrid_count)\n",
    "        oa_status_counts_by_year[\"closed\"].append(non_oa_count)\n",
    "        oa_status_counts_by_year[\"diamond\"].append(diamond_count)\n",
    "\n",
    "    # Convert to DataFrame\n",
    "    df_oa_by_year = pd.DataFrame(oa_status_counts_by_year)\n",
    "\n",
    "    return df_oa_by_year\n"
   ]
  },
  {
   "cell_type": "markdown",
   "metadata": {},
   "source": [
    "##### Step 2.9: Create Plot for Stacked Bar Chart"
   ]
  },
  {
   "cell_type": "code",
   "execution_count": null,
   "metadata": {},
   "outputs": [],
   "source": [
    "def plot_stacked_oa_status_by_year(df, title):\n",
    "    categories = [\"closed\", \"green\", \"gold\", \"hybrid\", \"bronze\", \"diamond\"]\n",
    "    plot_colors = [colors[\"gray\"][8], colors[\"teal\"][8], colors[\"yellow\"][7], colors[\"blue\"][8], colors[\"orange\"][8], colors[\"pink\"][5]]\n",
    "\n",
    "    years = df[\"Year\"]\n",
    "    values = df[categories]\n",
    "\n",
    "    fig, ax = plt.subplots(figsize=(14, 7))\n",
    "    bottom = np.zeros(len(df))  # Initialize bottom of stack\n",
    "\n",
    "    # Loop through categories and stack bars\n",
    "    for i, category in enumerate(categories):\n",
    "        ax.bar(\n",
    "            years,\n",
    "            values[category],\n",
    "            label=category.capitalize(),\n",
    "            color=plot_colors[i],\n",
    "            bottom=bottom\n",
    "        )\n",
    "        bottom += values[category]\n",
    "\n",
    "    # Formatting\n",
    "    ax.set_title(title, fontsize=20, fontweight=\"bold\")\n",
    "    ax.set_xlabel(\"Year\", fontsize=12)\n",
    "    ax.set_ylabel(\"Number of Publications\", fontsize=12)\n",
    "    ax.set_xticks(years)\n",
    "    ax.tick_params(axis='x')\n",
    "    ax.legend(\n",
    "        title=\"Open Access Status\",\n",
    "        loc=\"upper center\",\n",
    "        bbox_to_anchor=(0.5, -0.17),\n",
    "        ncol=len(categories)\n",
    "    )\n",
    "    \n",
    "    # Move legend below plot\n",
    "    ax.spines[['top', 'right']].set_visible(False)\n",
    "    plt.tight_layout()\n",
    "    plt.show()"
   ]
  },
  {
   "cell_type": "markdown",
   "metadata": {},
   "source": [
    "##### Step 2.10: Create DataFrame "
   ]
  },
  {
   "cell_type": "code",
   "execution_count": 36,
   "metadata": {},
   "outputs": [
    {
     "name": "stdout",
     "output_type": "stream",
     "text": [
      "Request URL: https://api.openaire.eu/graph/v1/researchProducts?relOrganizationId=openorgs____%3A%3Afb1e14f93f04d43e1a10a9f17d12c669&type=publication&instanceType=Article&bestOpenAccessRightLabel=OPEN&isInDiamondJournal=False&isGreen=True&fromPublicationDate=2016&toPublicationDate=2016&pageSize=1\n",
      "Request URL: https://api.openaire.eu/graph/v1/researchProducts?relOrganizationId=openorgs____%3A%3Afb1e14f93f04d43e1a10a9f17d12c669&type=publication&instanceType=Article&bestOpenAccessRightLabel=OPEN&isInDiamondJournal=False&isGreen=True&openAccessColor=gold&fromPublicationDate=2016&toPublicationDate=2016&pageSize=1\n",
      "Request URL: https://api.openaire.eu/graph/v1/researchProducts?relOrganizationId=openorgs____%3A%3Afb1e14f93f04d43e1a10a9f17d12c669&type=publication&instanceType=Article&bestOpenAccessRightLabel=OPEN&isInDiamondJournal=False&isGreen=False&openAccessColor=bronze&fromPublicationDate=2016&toPublicationDate=2016&pageSize=1\n",
      "Request URL: https://api.openaire.eu/graph/v1/researchProducts?relOrganizationId=openorgs____%3A%3Afb1e14f93f04d43e1a10a9f17d12c669&type=publication&instanceType=Article&bestOpenAccessRightLabel=OPEN&isInDiamondJournal=False&openAccessColor=gold&fromPublicationDate=2016&toPublicationDate=2016&pageSize=1\n",
      "Request URL: https://api.openaire.eu/graph/v1/researchProducts?relOrganizationId=openorgs____%3A%3Afb1e14f93f04d43e1a10a9f17d12c669&type=publication&instanceType=Article&bestOpenAccessRightLabel=OPEN&isInDiamondJournal=False&isGreen=False&openAccessColor=hybrid&fromPublicationDate=2016&toPublicationDate=2016&pageSize=1\n",
      "Request URL: https://api.openaire.eu/graph/v1/researchProducts?relOrganizationId=openorgs____%3A%3Afb1e14f93f04d43e1a10a9f17d12c669&type=publication&instanceType=Article&bestOpenAccessRightLabel=CLOSED&fromPublicationDate=2016&toPublicationDate=2016&pageSize=1\n",
      "Request URL: https://api.openaire.eu/graph/v1/researchProducts?relOrganizationId=openorgs____%3A%3Afb1e14f93f04d43e1a10a9f17d12c669&type=publication&instanceType=Article&bestOpenAccessRightLabel=OPEN&isInDiamondJournal=True&fromPublicationDate=2016&toPublicationDate=2016&pageSize=1\n",
      "Request URL: https://api.openaire.eu/graph/v1/researchProducts?relOrganizationId=openorgs____%3A%3Afb1e14f93f04d43e1a10a9f17d12c669&type=publication&instanceType=Article&bestOpenAccessRightLabel=OPEN&isInDiamondJournal=False&isGreen=True&fromPublicationDate=2017&toPublicationDate=2017&pageSize=1\n",
      "Request URL: https://api.openaire.eu/graph/v1/researchProducts?relOrganizationId=openorgs____%3A%3Afb1e14f93f04d43e1a10a9f17d12c669&type=publication&instanceType=Article&bestOpenAccessRightLabel=OPEN&isInDiamondJournal=False&isGreen=True&openAccessColor=gold&fromPublicationDate=2017&toPublicationDate=2017&pageSize=1\n",
      "Request URL: https://api.openaire.eu/graph/v1/researchProducts?relOrganizationId=openorgs____%3A%3Afb1e14f93f04d43e1a10a9f17d12c669&type=publication&instanceType=Article&bestOpenAccessRightLabel=OPEN&isInDiamondJournal=False&isGreen=False&openAccessColor=bronze&fromPublicationDate=2017&toPublicationDate=2017&pageSize=1\n",
      "Request URL: https://api.openaire.eu/graph/v1/researchProducts?relOrganizationId=openorgs____%3A%3Afb1e14f93f04d43e1a10a9f17d12c669&type=publication&instanceType=Article&bestOpenAccessRightLabel=OPEN&isInDiamondJournal=False&openAccessColor=gold&fromPublicationDate=2017&toPublicationDate=2017&pageSize=1\n",
      "Request URL: https://api.openaire.eu/graph/v1/researchProducts?relOrganizationId=openorgs____%3A%3Afb1e14f93f04d43e1a10a9f17d12c669&type=publication&instanceType=Article&bestOpenAccessRightLabel=OPEN&isInDiamondJournal=False&isGreen=False&openAccessColor=hybrid&fromPublicationDate=2017&toPublicationDate=2017&pageSize=1\n",
      "Request URL: https://api.openaire.eu/graph/v1/researchProducts?relOrganizationId=openorgs____%3A%3Afb1e14f93f04d43e1a10a9f17d12c669&type=publication&instanceType=Article&bestOpenAccessRightLabel=CLOSED&fromPublicationDate=2017&toPublicationDate=2017&pageSize=1\n",
      "Request URL: https://api.openaire.eu/graph/v1/researchProducts?relOrganizationId=openorgs____%3A%3Afb1e14f93f04d43e1a10a9f17d12c669&type=publication&instanceType=Article&bestOpenAccessRightLabel=OPEN&isInDiamondJournal=True&fromPublicationDate=2017&toPublicationDate=2017&pageSize=1\n",
      "Request URL: https://api.openaire.eu/graph/v1/researchProducts?relOrganizationId=openorgs____%3A%3Afb1e14f93f04d43e1a10a9f17d12c669&type=publication&instanceType=Article&bestOpenAccessRightLabel=OPEN&isInDiamondJournal=False&isGreen=True&fromPublicationDate=2018&toPublicationDate=2018&pageSize=1\n",
      "Request URL: https://api.openaire.eu/graph/v1/researchProducts?relOrganizationId=openorgs____%3A%3Afb1e14f93f04d43e1a10a9f17d12c669&type=publication&instanceType=Article&bestOpenAccessRightLabel=OPEN&isInDiamondJournal=False&isGreen=True&openAccessColor=gold&fromPublicationDate=2018&toPublicationDate=2018&pageSize=1\n",
      "Request URL: https://api.openaire.eu/graph/v1/researchProducts?relOrganizationId=openorgs____%3A%3Afb1e14f93f04d43e1a10a9f17d12c669&type=publication&instanceType=Article&bestOpenAccessRightLabel=OPEN&isInDiamondJournal=False&isGreen=False&openAccessColor=bronze&fromPublicationDate=2018&toPublicationDate=2018&pageSize=1\n",
      "Request URL: https://api.openaire.eu/graph/v1/researchProducts?relOrganizationId=openorgs____%3A%3Afb1e14f93f04d43e1a10a9f17d12c669&type=publication&instanceType=Article&bestOpenAccessRightLabel=OPEN&isInDiamondJournal=False&openAccessColor=gold&fromPublicationDate=2018&toPublicationDate=2018&pageSize=1\n",
      "Request URL: https://api.openaire.eu/graph/v1/researchProducts?relOrganizationId=openorgs____%3A%3Afb1e14f93f04d43e1a10a9f17d12c669&type=publication&instanceType=Article&bestOpenAccessRightLabel=OPEN&isInDiamondJournal=False&isGreen=False&openAccessColor=hybrid&fromPublicationDate=2018&toPublicationDate=2018&pageSize=1\n",
      "Request URL: https://api.openaire.eu/graph/v1/researchProducts?relOrganizationId=openorgs____%3A%3Afb1e14f93f04d43e1a10a9f17d12c669&type=publication&instanceType=Article&bestOpenAccessRightLabel=CLOSED&fromPublicationDate=2018&toPublicationDate=2018&pageSize=1\n",
      "Request URL: https://api.openaire.eu/graph/v1/researchProducts?relOrganizationId=openorgs____%3A%3Afb1e14f93f04d43e1a10a9f17d12c669&type=publication&instanceType=Article&bestOpenAccessRightLabel=OPEN&isInDiamondJournal=True&fromPublicationDate=2018&toPublicationDate=2018&pageSize=1\n",
      "Request URL: https://api.openaire.eu/graph/v1/researchProducts?relOrganizationId=openorgs____%3A%3Afb1e14f93f04d43e1a10a9f17d12c669&type=publication&instanceType=Article&bestOpenAccessRightLabel=OPEN&isInDiamondJournal=False&isGreen=True&fromPublicationDate=2019&toPublicationDate=2019&pageSize=1\n",
      "Request URL: https://api.openaire.eu/graph/v1/researchProducts?relOrganizationId=openorgs____%3A%3Afb1e14f93f04d43e1a10a9f17d12c669&type=publication&instanceType=Article&bestOpenAccessRightLabel=OPEN&isInDiamondJournal=False&isGreen=True&openAccessColor=gold&fromPublicationDate=2019&toPublicationDate=2019&pageSize=1\n",
      "Request URL: https://api.openaire.eu/graph/v1/researchProducts?relOrganizationId=openorgs____%3A%3Afb1e14f93f04d43e1a10a9f17d12c669&type=publication&instanceType=Article&bestOpenAccessRightLabel=OPEN&isInDiamondJournal=False&isGreen=False&openAccessColor=bronze&fromPublicationDate=2019&toPublicationDate=2019&pageSize=1\n",
      "Request URL: https://api.openaire.eu/graph/v1/researchProducts?relOrganizationId=openorgs____%3A%3Afb1e14f93f04d43e1a10a9f17d12c669&type=publication&instanceType=Article&bestOpenAccessRightLabel=OPEN&isInDiamondJournal=False&openAccessColor=gold&fromPublicationDate=2019&toPublicationDate=2019&pageSize=1\n",
      "Request URL: https://api.openaire.eu/graph/v1/researchProducts?relOrganizationId=openorgs____%3A%3Afb1e14f93f04d43e1a10a9f17d12c669&type=publication&instanceType=Article&bestOpenAccessRightLabel=OPEN&isInDiamondJournal=False&isGreen=False&openAccessColor=hybrid&fromPublicationDate=2019&toPublicationDate=2019&pageSize=1\n",
      "Request URL: https://api.openaire.eu/graph/v1/researchProducts?relOrganizationId=openorgs____%3A%3Afb1e14f93f04d43e1a10a9f17d12c669&type=publication&instanceType=Article&bestOpenAccessRightLabel=CLOSED&fromPublicationDate=2019&toPublicationDate=2019&pageSize=1\n",
      "Request URL: https://api.openaire.eu/graph/v1/researchProducts?relOrganizationId=openorgs____%3A%3Afb1e14f93f04d43e1a10a9f17d12c669&type=publication&instanceType=Article&bestOpenAccessRightLabel=OPEN&isInDiamondJournal=True&fromPublicationDate=2019&toPublicationDate=2019&pageSize=1\n",
      "Request URL: https://api.openaire.eu/graph/v1/researchProducts?relOrganizationId=openorgs____%3A%3Afb1e14f93f04d43e1a10a9f17d12c669&type=publication&instanceType=Article&bestOpenAccessRightLabel=OPEN&isInDiamondJournal=False&isGreen=True&fromPublicationDate=2020&toPublicationDate=2020&pageSize=1\n",
      "Request URL: https://api.openaire.eu/graph/v1/researchProducts?relOrganizationId=openorgs____%3A%3Afb1e14f93f04d43e1a10a9f17d12c669&type=publication&instanceType=Article&bestOpenAccessRightLabel=OPEN&isInDiamondJournal=False&isGreen=True&openAccessColor=gold&fromPublicationDate=2020&toPublicationDate=2020&pageSize=1\n",
      "Request URL: https://api.openaire.eu/graph/v1/researchProducts?relOrganizationId=openorgs____%3A%3Afb1e14f93f04d43e1a10a9f17d12c669&type=publication&instanceType=Article&bestOpenAccessRightLabel=OPEN&isInDiamondJournal=False&isGreen=False&openAccessColor=bronze&fromPublicationDate=2020&toPublicationDate=2020&pageSize=1\n",
      "Request URL: https://api.openaire.eu/graph/v1/researchProducts?relOrganizationId=openorgs____%3A%3Afb1e14f93f04d43e1a10a9f17d12c669&type=publication&instanceType=Article&bestOpenAccessRightLabel=OPEN&isInDiamondJournal=False&openAccessColor=gold&fromPublicationDate=2020&toPublicationDate=2020&pageSize=1\n",
      "Request URL: https://api.openaire.eu/graph/v1/researchProducts?relOrganizationId=openorgs____%3A%3Afb1e14f93f04d43e1a10a9f17d12c669&type=publication&instanceType=Article&bestOpenAccessRightLabel=OPEN&isInDiamondJournal=False&isGreen=False&openAccessColor=hybrid&fromPublicationDate=2020&toPublicationDate=2020&pageSize=1\n",
      "Request URL: https://api.openaire.eu/graph/v1/researchProducts?relOrganizationId=openorgs____%3A%3Afb1e14f93f04d43e1a10a9f17d12c669&type=publication&instanceType=Article&bestOpenAccessRightLabel=CLOSED&fromPublicationDate=2020&toPublicationDate=2020&pageSize=1\n",
      "Request URL: https://api.openaire.eu/graph/v1/researchProducts?relOrganizationId=openorgs____%3A%3Afb1e14f93f04d43e1a10a9f17d12c669&type=publication&instanceType=Article&bestOpenAccessRightLabel=OPEN&isInDiamondJournal=True&fromPublicationDate=2020&toPublicationDate=2020&pageSize=1\n",
      "Request URL: https://api.openaire.eu/graph/v1/researchProducts?relOrganizationId=openorgs____%3A%3Afb1e14f93f04d43e1a10a9f17d12c669&type=publication&instanceType=Article&bestOpenAccessRightLabel=OPEN&isInDiamondJournal=False&isGreen=True&fromPublicationDate=2021&toPublicationDate=2021&pageSize=1\n",
      "Request URL: https://api.openaire.eu/graph/v1/researchProducts?relOrganizationId=openorgs____%3A%3Afb1e14f93f04d43e1a10a9f17d12c669&type=publication&instanceType=Article&bestOpenAccessRightLabel=OPEN&isInDiamondJournal=False&isGreen=True&openAccessColor=gold&fromPublicationDate=2021&toPublicationDate=2021&pageSize=1\n",
      "Request URL: https://api.openaire.eu/graph/v1/researchProducts?relOrganizationId=openorgs____%3A%3Afb1e14f93f04d43e1a10a9f17d12c669&type=publication&instanceType=Article&bestOpenAccessRightLabel=OPEN&isInDiamondJournal=False&isGreen=False&openAccessColor=bronze&fromPublicationDate=2021&toPublicationDate=2021&pageSize=1\n",
      "Request URL: https://api.openaire.eu/graph/v1/researchProducts?relOrganizationId=openorgs____%3A%3Afb1e14f93f04d43e1a10a9f17d12c669&type=publication&instanceType=Article&bestOpenAccessRightLabel=OPEN&isInDiamondJournal=False&openAccessColor=gold&fromPublicationDate=2021&toPublicationDate=2021&pageSize=1\n",
      "Request URL: https://api.openaire.eu/graph/v1/researchProducts?relOrganizationId=openorgs____%3A%3Afb1e14f93f04d43e1a10a9f17d12c669&type=publication&instanceType=Article&bestOpenAccessRightLabel=OPEN&isInDiamondJournal=False&isGreen=False&openAccessColor=hybrid&fromPublicationDate=2021&toPublicationDate=2021&pageSize=1\n",
      "Request URL: https://api.openaire.eu/graph/v1/researchProducts?relOrganizationId=openorgs____%3A%3Afb1e14f93f04d43e1a10a9f17d12c669&type=publication&instanceType=Article&bestOpenAccessRightLabel=CLOSED&fromPublicationDate=2021&toPublicationDate=2021&pageSize=1\n",
      "Request URL: https://api.openaire.eu/graph/v1/researchProducts?relOrganizationId=openorgs____%3A%3Afb1e14f93f04d43e1a10a9f17d12c669&type=publication&instanceType=Article&bestOpenAccessRightLabel=OPEN&isInDiamondJournal=True&fromPublicationDate=2021&toPublicationDate=2021&pageSize=1\n",
      "Request URL: https://api.openaire.eu/graph/v1/researchProducts?relOrganizationId=openorgs____%3A%3Afb1e14f93f04d43e1a10a9f17d12c669&type=publication&instanceType=Article&bestOpenAccessRightLabel=OPEN&isInDiamondJournal=False&isGreen=True&fromPublicationDate=2022&toPublicationDate=2022&pageSize=1\n",
      "Request URL: https://api.openaire.eu/graph/v1/researchProducts?relOrganizationId=openorgs____%3A%3Afb1e14f93f04d43e1a10a9f17d12c669&type=publication&instanceType=Article&bestOpenAccessRightLabel=OPEN&isInDiamondJournal=False&isGreen=True&openAccessColor=gold&fromPublicationDate=2022&toPublicationDate=2022&pageSize=1\n",
      "Request URL: https://api.openaire.eu/graph/v1/researchProducts?relOrganizationId=openorgs____%3A%3Afb1e14f93f04d43e1a10a9f17d12c669&type=publication&instanceType=Article&bestOpenAccessRightLabel=OPEN&isInDiamondJournal=False&isGreen=False&openAccessColor=bronze&fromPublicationDate=2022&toPublicationDate=2022&pageSize=1\n",
      "Request URL: https://api.openaire.eu/graph/v1/researchProducts?relOrganizationId=openorgs____%3A%3Afb1e14f93f04d43e1a10a9f17d12c669&type=publication&instanceType=Article&bestOpenAccessRightLabel=OPEN&isInDiamondJournal=False&openAccessColor=gold&fromPublicationDate=2022&toPublicationDate=2022&pageSize=1\n",
      "Request URL: https://api.openaire.eu/graph/v1/researchProducts?relOrganizationId=openorgs____%3A%3Afb1e14f93f04d43e1a10a9f17d12c669&type=publication&instanceType=Article&bestOpenAccessRightLabel=OPEN&isInDiamondJournal=False&isGreen=False&openAccessColor=hybrid&fromPublicationDate=2022&toPublicationDate=2022&pageSize=1\n",
      "Request URL: https://api.openaire.eu/graph/v1/researchProducts?relOrganizationId=openorgs____%3A%3Afb1e14f93f04d43e1a10a9f17d12c669&type=publication&instanceType=Article&bestOpenAccessRightLabel=CLOSED&fromPublicationDate=2022&toPublicationDate=2022&pageSize=1\n",
      "Request URL: https://api.openaire.eu/graph/v1/researchProducts?relOrganizationId=openorgs____%3A%3Afb1e14f93f04d43e1a10a9f17d12c669&type=publication&instanceType=Article&bestOpenAccessRightLabel=OPEN&isInDiamondJournal=True&fromPublicationDate=2022&toPublicationDate=2022&pageSize=1\n",
      "Request URL: https://api.openaire.eu/graph/v1/researchProducts?relOrganizationId=openorgs____%3A%3Afb1e14f93f04d43e1a10a9f17d12c669&type=publication&instanceType=Article&bestOpenAccessRightLabel=OPEN&isInDiamondJournal=False&isGreen=True&fromPublicationDate=2023&toPublicationDate=2023&pageSize=1\n",
      "Request URL: https://api.openaire.eu/graph/v1/researchProducts?relOrganizationId=openorgs____%3A%3Afb1e14f93f04d43e1a10a9f17d12c669&type=publication&instanceType=Article&bestOpenAccessRightLabel=OPEN&isInDiamondJournal=False&isGreen=True&openAccessColor=gold&fromPublicationDate=2023&toPublicationDate=2023&pageSize=1\n",
      "Request URL: https://api.openaire.eu/graph/v1/researchProducts?relOrganizationId=openorgs____%3A%3Afb1e14f93f04d43e1a10a9f17d12c669&type=publication&instanceType=Article&bestOpenAccessRightLabel=OPEN&isInDiamondJournal=False&isGreen=False&openAccessColor=bronze&fromPublicationDate=2023&toPublicationDate=2023&pageSize=1\n",
      "Request URL: https://api.openaire.eu/graph/v1/researchProducts?relOrganizationId=openorgs____%3A%3Afb1e14f93f04d43e1a10a9f17d12c669&type=publication&instanceType=Article&bestOpenAccessRightLabel=OPEN&isInDiamondJournal=False&openAccessColor=gold&fromPublicationDate=2023&toPublicationDate=2023&pageSize=1\n",
      "Request URL: https://api.openaire.eu/graph/v1/researchProducts?relOrganizationId=openorgs____%3A%3Afb1e14f93f04d43e1a10a9f17d12c669&type=publication&instanceType=Article&bestOpenAccessRightLabel=OPEN&isInDiamondJournal=False&isGreen=False&openAccessColor=hybrid&fromPublicationDate=2023&toPublicationDate=2023&pageSize=1\n",
      "Request URL: https://api.openaire.eu/graph/v1/researchProducts?relOrganizationId=openorgs____%3A%3Afb1e14f93f04d43e1a10a9f17d12c669&type=publication&instanceType=Article&bestOpenAccessRightLabel=CLOSED&fromPublicationDate=2023&toPublicationDate=2023&pageSize=1\n",
      "Request URL: https://api.openaire.eu/graph/v1/researchProducts?relOrganizationId=openorgs____%3A%3Afb1e14f93f04d43e1a10a9f17d12c669&type=publication&instanceType=Article&bestOpenAccessRightLabel=OPEN&isInDiamondJournal=True&fromPublicationDate=2023&toPublicationDate=2023&pageSize=1\n",
      "Request URL: https://api.openaire.eu/graph/v1/researchProducts?relOrganizationId=openorgs____%3A%3Afb1e14f93f04d43e1a10a9f17d12c669&type=publication&instanceType=Article&bestOpenAccessRightLabel=OPEN&isInDiamondJournal=False&isGreen=True&fromPublicationDate=2024&toPublicationDate=2024&pageSize=1\n",
      "Request URL: https://api.openaire.eu/graph/v1/researchProducts?relOrganizationId=openorgs____%3A%3Afb1e14f93f04d43e1a10a9f17d12c669&type=publication&instanceType=Article&bestOpenAccessRightLabel=OPEN&isInDiamondJournal=False&isGreen=True&openAccessColor=gold&fromPublicationDate=2024&toPublicationDate=2024&pageSize=1\n",
      "Request URL: https://api.openaire.eu/graph/v1/researchProducts?relOrganizationId=openorgs____%3A%3Afb1e14f93f04d43e1a10a9f17d12c669&type=publication&instanceType=Article&bestOpenAccessRightLabel=OPEN&isInDiamondJournal=False&isGreen=False&openAccessColor=bronze&fromPublicationDate=2024&toPublicationDate=2024&pageSize=1\n",
      "Request URL: https://api.openaire.eu/graph/v1/researchProducts?relOrganizationId=openorgs____%3A%3Afb1e14f93f04d43e1a10a9f17d12c669&type=publication&instanceType=Article&bestOpenAccessRightLabel=OPEN&isInDiamondJournal=False&openAccessColor=gold&fromPublicationDate=2024&toPublicationDate=2024&pageSize=1\n",
      "Request URL: https://api.openaire.eu/graph/v1/researchProducts?relOrganizationId=openorgs____%3A%3Afb1e14f93f04d43e1a10a9f17d12c669&type=publication&instanceType=Article&bestOpenAccessRightLabel=OPEN&isInDiamondJournal=False&isGreen=False&openAccessColor=hybrid&fromPublicationDate=2024&toPublicationDate=2024&pageSize=1\n",
      "Request URL: https://api.openaire.eu/graph/v1/researchProducts?relOrganizationId=openorgs____%3A%3Afb1e14f93f04d43e1a10a9f17d12c669&type=publication&instanceType=Article&bestOpenAccessRightLabel=CLOSED&fromPublicationDate=2024&toPublicationDate=2024&pageSize=1\n",
      "Request URL: https://api.openaire.eu/graph/v1/researchProducts?relOrganizationId=openorgs____%3A%3Afb1e14f93f04d43e1a10a9f17d12c669&type=publication&instanceType=Article&bestOpenAccessRightLabel=OPEN&isInDiamondJournal=True&fromPublicationDate=2024&toPublicationDate=2024&pageSize=1\n",
      "Request URL: https://api.openaire.eu/graph/v1/researchProducts?relOrganizationId=openorgs____%3A%3Afb1e14f93f04d43e1a10a9f17d12c669&type=publication&instanceType=Article&bestOpenAccessRightLabel=OPEN&isInDiamondJournal=False&isGreen=True&fromPublicationDate=2025&toPublicationDate=2025&pageSize=1\n",
      "Request URL: https://api.openaire.eu/graph/v1/researchProducts?relOrganizationId=openorgs____%3A%3Afb1e14f93f04d43e1a10a9f17d12c669&type=publication&instanceType=Article&bestOpenAccessRightLabel=OPEN&isInDiamondJournal=False&isGreen=True&openAccessColor=gold&fromPublicationDate=2025&toPublicationDate=2025&pageSize=1\n",
      "Request URL: https://api.openaire.eu/graph/v1/researchProducts?relOrganizationId=openorgs____%3A%3Afb1e14f93f04d43e1a10a9f17d12c669&type=publication&instanceType=Article&bestOpenAccessRightLabel=OPEN&isInDiamondJournal=False&isGreen=False&openAccessColor=bronze&fromPublicationDate=2025&toPublicationDate=2025&pageSize=1\n",
      "Request URL: https://api.openaire.eu/graph/v1/researchProducts?relOrganizationId=openorgs____%3A%3Afb1e14f93f04d43e1a10a9f17d12c669&type=publication&instanceType=Article&bestOpenAccessRightLabel=OPEN&isInDiamondJournal=False&openAccessColor=gold&fromPublicationDate=2025&toPublicationDate=2025&pageSize=1\n",
      "Request URL: https://api.openaire.eu/graph/v1/researchProducts?relOrganizationId=openorgs____%3A%3Afb1e14f93f04d43e1a10a9f17d12c669&type=publication&instanceType=Article&bestOpenAccessRightLabel=OPEN&isInDiamondJournal=False&isGreen=False&openAccessColor=hybrid&fromPublicationDate=2025&toPublicationDate=2025&pageSize=1\n",
      "Request URL: https://api.openaire.eu/graph/v1/researchProducts?relOrganizationId=openorgs____%3A%3Afb1e14f93f04d43e1a10a9f17d12c669&type=publication&instanceType=Article&bestOpenAccessRightLabel=CLOSED&fromPublicationDate=2025&toPublicationDate=2025&pageSize=1\n",
      "Request URL: https://api.openaire.eu/graph/v1/researchProducts?relOrganizationId=openorgs____%3A%3Afb1e14f93f04d43e1a10a9f17d12c669&type=publication&instanceType=Article&bestOpenAccessRightLabel=OPEN&isInDiamondJournal=True&fromPublicationDate=2025&toPublicationDate=2025&pageSize=1\n"
     ]
    }
   ],
   "source": [
    "df_oa_by_year = fetch_oa_status_by_year(institution_id, start_year, end_year, base_url)"
   ]
  },
  {
   "cell_type": "code",
   "execution_count": 37,
   "metadata": {},
   "outputs": [
    {
     "data": {
      "text/html": [
       "<div>\n",
       "<style scoped>\n",
       "    .dataframe tbody tr th:only-of-type {\n",
       "        vertical-align: middle;\n",
       "    }\n",
       "\n",
       "    .dataframe tbody tr th {\n",
       "        vertical-align: top;\n",
       "    }\n",
       "\n",
       "    .dataframe thead th {\n",
       "        text-align: right;\n",
       "    }\n",
       "</style>\n",
       "<table border=\"1\" class=\"dataframe\">\n",
       "  <thead>\n",
       "    <tr style=\"text-align: right;\">\n",
       "      <th></th>\n",
       "      <th>Year</th>\n",
       "      <th>green</th>\n",
       "      <th>bronze</th>\n",
       "      <th>gold</th>\n",
       "      <th>hybrid</th>\n",
       "      <th>closed</th>\n",
       "      <th>diamond</th>\n",
       "    </tr>\n",
       "  </thead>\n",
       "  <tbody>\n",
       "    <tr>\n",
       "      <th>0</th>\n",
       "      <td>2016</td>\n",
       "      <td>2620</td>\n",
       "      <td>450</td>\n",
       "      <td>1722</td>\n",
       "      <td>267</td>\n",
       "      <td>1341</td>\n",
       "      <td>5</td>\n",
       "    </tr>\n",
       "    <tr>\n",
       "      <th>1</th>\n",
       "      <td>2017</td>\n",
       "      <td>3007</td>\n",
       "      <td>437</td>\n",
       "      <td>1993</td>\n",
       "      <td>223</td>\n",
       "      <td>1299</td>\n",
       "      <td>5</td>\n",
       "    </tr>\n",
       "    <tr>\n",
       "      <th>2</th>\n",
       "      <td>2018</td>\n",
       "      <td>3550</td>\n",
       "      <td>498</td>\n",
       "      <td>2042</td>\n",
       "      <td>206</td>\n",
       "      <td>1283</td>\n",
       "      <td>6</td>\n",
       "    </tr>\n",
       "    <tr>\n",
       "      <th>3</th>\n",
       "      <td>2019</td>\n",
       "      <td>3895</td>\n",
       "      <td>475</td>\n",
       "      <td>2272</td>\n",
       "      <td>270</td>\n",
       "      <td>1439</td>\n",
       "      <td>12</td>\n",
       "    </tr>\n",
       "    <tr>\n",
       "      <th>4</th>\n",
       "      <td>2020</td>\n",
       "      <td>4497</td>\n",
       "      <td>479</td>\n",
       "      <td>2808</td>\n",
       "      <td>425</td>\n",
       "      <td>1240</td>\n",
       "      <td>5</td>\n",
       "    </tr>\n",
       "    <tr>\n",
       "      <th>5</th>\n",
       "      <td>2021</td>\n",
       "      <td>5453</td>\n",
       "      <td>341</td>\n",
       "      <td>3002</td>\n",
       "      <td>521</td>\n",
       "      <td>944</td>\n",
       "      <td>6</td>\n",
       "    </tr>\n",
       "    <tr>\n",
       "      <th>6</th>\n",
       "      <td>2022</td>\n",
       "      <td>5203</td>\n",
       "      <td>47</td>\n",
       "      <td>2742</td>\n",
       "      <td>456</td>\n",
       "      <td>737</td>\n",
       "      <td>4</td>\n",
       "    </tr>\n",
       "    <tr>\n",
       "      <th>7</th>\n",
       "      <td>2023</td>\n",
       "      <td>5596</td>\n",
       "      <td>9</td>\n",
       "      <td>2672</td>\n",
       "      <td>553</td>\n",
       "      <td>789</td>\n",
       "      <td>4</td>\n",
       "    </tr>\n",
       "    <tr>\n",
       "      <th>8</th>\n",
       "      <td>2024</td>\n",
       "      <td>5133</td>\n",
       "      <td>9</td>\n",
       "      <td>2185</td>\n",
       "      <td>438</td>\n",
       "      <td>745</td>\n",
       "      <td>7</td>\n",
       "    </tr>\n",
       "    <tr>\n",
       "      <th>9</th>\n",
       "      <td>2025</td>\n",
       "      <td>557</td>\n",
       "      <td>0</td>\n",
       "      <td>160</td>\n",
       "      <td>56</td>\n",
       "      <td>102</td>\n",
       "      <td>0</td>\n",
       "    </tr>\n",
       "  </tbody>\n",
       "</table>\n",
       "</div>"
      ],
      "text/plain": [
       "   Year  green  bronze  gold  hybrid  closed  diamond\n",
       "0  2016   2620     450  1722     267    1341        5\n",
       "1  2017   3007     437  1993     223    1299        5\n",
       "2  2018   3550     498  2042     206    1283        6\n",
       "3  2019   3895     475  2272     270    1439       12\n",
       "4  2020   4497     479  2808     425    1240        5\n",
       "5  2021   5453     341  3002     521     944        6\n",
       "6  2022   5203      47  2742     456     737        4\n",
       "7  2023   5596       9  2672     553     789        4\n",
       "8  2024   5133       9  2185     438     745        7\n",
       "9  2025    557       0   160      56     102        0"
      ]
     },
     "execution_count": 37,
     "metadata": {},
     "output_type": "execute_result"
    }
   ],
   "source": [
    "df_oa_by_year"
   ]
  },
  {
   "cell_type": "markdown",
   "metadata": {},
   "source": [
    "##### Step 2.11: Display Stacked Bar Chart"
   ]
  },
  {
   "cell_type": "code",
   "execution_count": 40,
   "metadata": {},
   "outputs": [
    {
     "data": {
      "image/png": "[encoded data removed]",
      "text/plain": [
       "<Figure size 1400x700 with 1 Axes>"
      ]
     },
     "metadata": {},
     "output_type": "display_data"
    }
   ],
   "source": [
    "plot_stacked_oa_status_by_year(df_oa_by_year, \"ETH Zürich Articles by Open Access Status Over Time\")"
   ]
  }
 ],
 "metadata": {
  "kernelspec": {
   "display_name": "myenv",
   "language": "python",
   "name": "python3"
  },
  "language_info": {
   "codemirror_mode": {
    "name": "ipython",
    "version": 3
   },
   "file_extension": ".py",
   "mimetype": "text/x-python",
   "name": "python",
   "nbconvert_exporter": "python",
   "pygments_lexer": "ipython3",
   "version": "3.13.2"
  }
 },
 "nbformat": 4,
 "nbformat_minor": 2
}
